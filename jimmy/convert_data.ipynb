{
 "cells": [
  {
   "cell_type": "code",
   "execution_count": 72,
   "metadata": {},
   "outputs": [
    {
     "data": {
      "text/plain": [
       "'E:\\\\Drive\\\\DB103\\\\人頭組專題\\\\專題-智慧運動輔助系統\\\\資料分析\\\\python\\\\running\\\\used\\\\1008'"
      ]
     },
     "execution_count": 72,
     "metadata": {},
     "output_type": "execute_result"
    }
   ],
   "source": [
    "import pandas as pd\n",
    "import datetime\n",
    "import os\n",
    "import glob\n",
    "os.getcwd()  # 查詢當前位置"
   ]
  },
  {
   "cell_type": "code",
   "execution_count": 73,
   "metadata": {},
   "outputs": [],
   "source": [
    "def status(filename, list1):\n",
    "    df = pd.read_csv(filename, encoding='utf-8')\n",
    "    status_dict = {'null': 0, 'run': 1, 'fast': 2, 'slow': 3}  # 運動狀態字典\n",
    "#     delete = df['X'] == 'X'  # 者出重複標題\n",
    "#     df = df[-delete]  # 刪除重複標題\n",
    "    df = df.iloc[0:-1]\n",
    "    df['status'] = 0  # 新增欄位\n",
    "    df['DateTime'] = pd.to_datetime(df['DateTime'])  # 定義日期時間欄位格式\n",
    "    len1 = int(len(list1) / 3)\n",
    "    for i in range(len1):\n",
    "        status = list1.pop()\n",
    "        end = list1.pop()\n",
    "        start = list1.pop()\n",
    "        mask = (df['DateTime'] > start) & (df['DateTime'] <= end)  # 篩選時間區間資料\n",
    "        df1 = df.loc[mask]  # 另存篩選結果\n",
    "        df1['status'] = status_dict[status]  # 修改篩選結果之運動狀態編號\n",
    "        df = pd.concat([df,df1]).drop_duplicates(['DateTime'],keep='last').sort_values('DateTime')  # 與原始資料合併\n",
    "    df.to_csv('new_' + filename, encoding='utf-8', index = False)  # 另存新檔"
   ]
  },
  {
   "cell_type": "code",
   "execution_count": 74,
   "metadata": {},
   "outputs": [],
   "source": [
    "def conbine(old_file, new_file):\n",
    "    os.chdir('E:\\\\Drive\\\\DB103\\\\人頭組專題\\\\專題-智慧運動輔助系統\\\\資料分析\\\\python\\\\running\\\\used\\\\1008')\n",
    "    extension = 'csv'\n",
    "    all_filenames = [i for i in glob.glob(old_file+'*.{}'.format(extension))]  # 定義要合併的檔名規則\n",
    "    #combine all files in the list\n",
    "    combined_csv = pd.concat([pd.read_csv(f) for f in all_filenames ])  # 合併檔案至df\n",
    "    #export to csv\n",
    "    combined_csv.to_csv(new_file, index=False, encoding='utf-8')  # 寫入csv"
   ]
  },
  {
   "cell_type": "code",
   "execution_count": 75,
   "metadata": {
    "scrolled": true
   },
   "outputs": [
    {
     "name": "stderr",
     "output_type": "stream",
     "text": [
      "E:\\Drive\\DB103\\人頭組專題\\專題-智慧運動輔助系統\\資料分析\\python\\venv\\lib\\site-packages\\ipykernel_launcher.py:16: SettingWithCopyWarning: \n",
      "A value is trying to be set on a copy of a slice from a DataFrame.\n",
      "Try using .loc[row_indexer,col_indexer] = value instead\n",
      "\n",
      "See the caveats in the documentation: http://pandas.pydata.org/pandas-docs/stable/user_guide/indexing.html#returning-a-view-versus-a-copy\n",
      "  app.launch_new_instance()\n"
     ]
    }
   ],
   "source": [
    "# 整併檔案名稱\n",
    "data = 'hul1008.csv'\n",
    "# 資料整併\n",
    "conbine('2019_10_08 gy_hul_', data)\n",
    "\n",
    "# 使用status()前要先把運動狀態整理成list\n",
    "len1 = ['2019-10-08 18:35:00', '2019-10-08 18:40:00', 'slow',\n",
    "        '2019-10-08 18:40:00', '2019-10-08 18:45:00', 'fast',\n",
    "        '2019-10-08 18:45:00', '2019-10-08 18:58:00', 'run',\n",
    "        '2019-10-08 18:58:00', '2019-10-08 19:03:00', 'fast', \n",
    "        '2019-10-08 19:03:00', '2019-10-08 19:20:00', 'run',\n",
    "        '2019-10-08 19:20:00', '2019-10-08 19:24:00', 'fast',]\n",
    "# 運動狀態名稱與對應編號：'null': 0, 'run': 1, 'fast': 2, 'slow': 3\n",
    "status(data, len1)"
   ]
  },
  {
   "cell_type": "code",
   "execution_count": 70,
   "metadata": {},
   "outputs": [],
   "source": []
  },
  {
   "cell_type": "code",
   "execution_count": 71,
   "metadata": {},
   "outputs": [
    {
     "name": "stderr",
     "output_type": "stream",
     "text": [
      "E:\\Drive\\DB103\\人頭組專題\\專題-智慧運動輔助系統\\資料分析\\python\\venv\\lib\\site-packages\\ipykernel_launcher.py:18: SettingWithCopyWarning: \n",
      "A value is trying to be set on a copy of a slice from a DataFrame.\n",
      "Try using .loc[row_indexer,col_indexer] = value instead\n",
      "\n",
      "See the caveats in the documentation: http://pandas.pydata.org/pandas-docs/stable/user_guide/indexing.html#returning-a-view-versus-a-copy\n"
     ]
    }
   ],
   "source": []
  },
  {
   "cell_type": "code",
   "execution_count": 61,
   "metadata": {},
   "outputs": [
    {
     "data": {
      "text/plain": [
       "'E:\\\\Drive\\\\DB103\\\\人頭組專題\\\\專題-智慧運動輔助系統\\\\資料分析\\\\python\\\\running\\\\used\\\\1008'"
      ]
     },
     "execution_count": 61,
     "metadata": {},
     "output_type": "execute_result"
    }
   ],
   "source": [
    "os.getcwd()"
   ]
  },
  {
   "cell_type": "code",
   "execution_count": 68,
   "metadata": {},
   "outputs": [],
   "source": []
  },
  {
   "cell_type": "code",
   "execution_count": 63,
   "metadata": {},
   "outputs": [],
   "source": []
  }
 ],
 "metadata": {
  "kernelspec": {
   "display_name": "Python 3",
   "language": "python",
   "name": "python3"
  },
  "language_info": {
   "codemirror_mode": {
    "name": "ipython",
    "version": 3
   },
   "file_extension": ".py",
   "mimetype": "text/x-python",
   "name": "python",
   "nbconvert_exporter": "python",
   "pygments_lexer": "ipython3",
   "version": "3.7.0"
  }
 },
 "nbformat": 4,
 "nbformat_minor": 2
}
