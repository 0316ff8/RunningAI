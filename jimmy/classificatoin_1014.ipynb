{
 "cells": [
  {
   "cell_type": "code",
   "execution_count": 342,
   "metadata": {},
   "outputs": [],
   "source": [
    "import os, glob\n",
    "import pandas as pd"
   ]
  },
  {
   "cell_type": "code",
   "execution_count": 343,
   "metadata": {},
   "outputs": [],
   "source": [
    "# 合併檔案\n",
    "def conbine_data(old_file, filename):\n",
    "    extension = 'csv'\n",
    "    all_filenames = [i for i in glob.glob(old_file+'*.{}'.format(extension))]  # 定義要合併的檔名規則\n",
    "    #combine all files in the list\n",
    "    df = pd.concat([pd.read_csv(f) for f in all_filenames ]) \n",
    "    df.to_csv(filename, encoding='utf-8', index = False)  # 另存新檔"
   ]
  },
  {
   "cell_type": "code",
   "execution_count": 344,
   "metadata": {},
   "outputs": [
    {
     "data": {
      "text/plain": [
       "'E:\\\\Drive\\\\DB103\\\\人頭組專題\\\\專題-智慧運動輔助系統\\\\資料分析\\\\python\\\\running\\\\finished'"
      ]
     },
     "execution_count": 344,
     "metadata": {},
     "output_type": "execute_result"
    }
   ],
   "source": [
    "# 設定當前路徑\n",
    "os.chdir('E:\\\\Drive\\\\DB103\\\\人頭組專題\\\\專題-智慧運動輔助系統\\\\資料分析\\\\python\\\\running\\\\finished')\n",
    "os.getcwd()  # 查詢當前位置"
   ]
  },
  {
   "cell_type": "code",
   "execution_count": 395,
   "metadata": {},
   "outputs": [],
   "source": [
    "UID = '1012'\n",
    "data =  '1014_test.csv'\n",
    "# conbine_data('*' + UID, data)\n",
    "conbine_data('new_2019_10', data)"
   ]
  },
  {
   "cell_type": "code",
   "execution_count": 396,
   "metadata": {},
   "outputs": [
    {
     "name": "stdout",
     "output_type": "stream",
     "text": [
      "1    9247\n",
      "3    4305\n",
      "2    4293\n",
      "Name: status, dtype: int64\n"
     ]
    },
    {
     "data": {
      "text/html": [
       "<div>\n",
       "<style scoped>\n",
       "    .dataframe tbody tr th:only-of-type {\n",
       "        vertical-align: middle;\n",
       "    }\n",
       "\n",
       "    .dataframe tbody tr th {\n",
       "        vertical-align: top;\n",
       "    }\n",
       "\n",
       "    .dataframe thead th {\n",
       "        text-align: right;\n",
       "    }\n",
       "</style>\n",
       "<table border=\"1\" class=\"dataframe\">\n",
       "  <thead>\n",
       "    <tr style=\"text-align: right;\">\n",
       "      <th></th>\n",
       "      <th>UID</th>\n",
       "      <th>status</th>\n",
       "      <th>DateTime</th>\n",
       "      <th>X_avg</th>\n",
       "      <th>Y_avg</th>\n",
       "      <th>Z_avg</th>\n",
       "      <th>Xr_avg</th>\n",
       "      <th>Yr_avg</th>\n",
       "      <th>Zr_avg</th>\n",
       "      <th>X_sd</th>\n",
       "      <th>...</th>\n",
       "      <th>Z_sd</th>\n",
       "      <th>Xr_sd</th>\n",
       "      <th>Yr_sd</th>\n",
       "      <th>Zr_sd</th>\n",
       "      <th>X_range</th>\n",
       "      <th>Y_range</th>\n",
       "      <th>Z_range</th>\n",
       "      <th>Xr_range</th>\n",
       "      <th>Yr_range</th>\n",
       "      <th>Zr_range</th>\n",
       "    </tr>\n",
       "  </thead>\n",
       "  <tbody>\n",
       "    <tr>\n",
       "      <td>0</td>\n",
       "      <td>austin</td>\n",
       "      <td>2</td>\n",
       "      <td>2019-10-12 18:23:24</td>\n",
       "      <td>12.84</td>\n",
       "      <td>11.05</td>\n",
       "      <td>-0.58</td>\n",
       "      <td>0.43</td>\n",
       "      <td>0.18</td>\n",
       "      <td>-0.94</td>\n",
       "      <td>104.0</td>\n",
       "      <td>...</td>\n",
       "      <td>33.0</td>\n",
       "      <td>0.0</td>\n",
       "      <td>0.0</td>\n",
       "      <td>0.0</td>\n",
       "      <td>373.480916</td>\n",
       "      <td>130.511450</td>\n",
       "      <td>118.374046</td>\n",
       "      <td>0.472900</td>\n",
       "      <td>0.803955</td>\n",
       "      <td>0.833984</td>\n",
       "    </tr>\n",
       "    <tr>\n",
       "      <td>1</td>\n",
       "      <td>austin</td>\n",
       "      <td>2</td>\n",
       "      <td>2019-10-12 18:23:25</td>\n",
       "      <td>-10.71</td>\n",
       "      <td>1.37</td>\n",
       "      <td>5.01</td>\n",
       "      <td>0.43</td>\n",
       "      <td>0.13</td>\n",
       "      <td>-0.98</td>\n",
       "      <td>109.0</td>\n",
       "      <td>...</td>\n",
       "      <td>51.0</td>\n",
       "      <td>0.0</td>\n",
       "      <td>0.0</td>\n",
       "      <td>0.0</td>\n",
       "      <td>370.625954</td>\n",
       "      <td>128.946565</td>\n",
       "      <td>226.709924</td>\n",
       "      <td>0.670654</td>\n",
       "      <td>1.179199</td>\n",
       "      <td>0.697021</td>\n",
       "    </tr>\n",
       "    <tr>\n",
       "      <td>2</td>\n",
       "      <td>austin</td>\n",
       "      <td>2</td>\n",
       "      <td>2019-10-12 18:23:26</td>\n",
       "      <td>-26.70</td>\n",
       "      <td>-8.19</td>\n",
       "      <td>5.61</td>\n",
       "      <td>0.44</td>\n",
       "      <td>0.12</td>\n",
       "      <td>-1.00</td>\n",
       "      <td>101.0</td>\n",
       "      <td>...</td>\n",
       "      <td>32.0</td>\n",
       "      <td>0.0</td>\n",
       "      <td>0.0</td>\n",
       "      <td>0.0</td>\n",
       "      <td>324.511450</td>\n",
       "      <td>117.549618</td>\n",
       "      <td>125.068702</td>\n",
       "      <td>0.629150</td>\n",
       "      <td>1.044922</td>\n",
       "      <td>0.830322</td>\n",
       "    </tr>\n",
       "    <tr>\n",
       "      <td>3</td>\n",
       "      <td>austin</td>\n",
       "      <td>2</td>\n",
       "      <td>2019-10-12 18:23:27</td>\n",
       "      <td>-30.77</td>\n",
       "      <td>-5.26</td>\n",
       "      <td>0.14</td>\n",
       "      <td>0.44</td>\n",
       "      <td>0.11</td>\n",
       "      <td>-0.99</td>\n",
       "      <td>104.0</td>\n",
       "      <td>...</td>\n",
       "      <td>27.0</td>\n",
       "      <td>0.0</td>\n",
       "      <td>0.0</td>\n",
       "      <td>0.0</td>\n",
       "      <td>320.160305</td>\n",
       "      <td>148.572519</td>\n",
       "      <td>111.786260</td>\n",
       "      <td>0.510742</td>\n",
       "      <td>1.076904</td>\n",
       "      <td>0.706299</td>\n",
       "    </tr>\n",
       "    <tr>\n",
       "      <td>4</td>\n",
       "      <td>austin</td>\n",
       "      <td>2</td>\n",
       "      <td>2019-10-12 18:23:28</td>\n",
       "      <td>-18.43</td>\n",
       "      <td>2.46</td>\n",
       "      <td>16.03</td>\n",
       "      <td>0.45</td>\n",
       "      <td>0.04</td>\n",
       "      <td>-0.95</td>\n",
       "      <td>120.0</td>\n",
       "      <td>...</td>\n",
       "      <td>33.0</td>\n",
       "      <td>0.0</td>\n",
       "      <td>0.0</td>\n",
       "      <td>0.0</td>\n",
       "      <td>347.053435</td>\n",
       "      <td>138.709924</td>\n",
       "      <td>123.557252</td>\n",
       "      <td>0.492676</td>\n",
       "      <td>0.761230</td>\n",
       "      <td>0.533447</td>\n",
       "    </tr>\n",
       "    <tr>\n",
       "      <td>...</td>\n",
       "      <td>...</td>\n",
       "      <td>...</td>\n",
       "      <td>...</td>\n",
       "      <td>...</td>\n",
       "      <td>...</td>\n",
       "      <td>...</td>\n",
       "      <td>...</td>\n",
       "      <td>...</td>\n",
       "      <td>...</td>\n",
       "      <td>...</td>\n",
       "      <td>...</td>\n",
       "      <td>...</td>\n",
       "      <td>...</td>\n",
       "      <td>...</td>\n",
       "      <td>...</td>\n",
       "      <td>...</td>\n",
       "      <td>...</td>\n",
       "      <td>...</td>\n",
       "      <td>...</td>\n",
       "      <td>...</td>\n",
       "      <td>...</td>\n",
       "    </tr>\n",
       "    <tr>\n",
       "      <td>17969</td>\n",
       "      <td>yoyo</td>\n",
       "      <td>2</td>\n",
       "      <td>2019-10-13 18:49:44</td>\n",
       "      <td>2.53</td>\n",
       "      <td>0.20</td>\n",
       "      <td>-2.43</td>\n",
       "      <td>0.20</td>\n",
       "      <td>0.01</td>\n",
       "      <td>-0.98</td>\n",
       "      <td>115.0</td>\n",
       "      <td>...</td>\n",
       "      <td>92.0</td>\n",
       "      <td>0.0</td>\n",
       "      <td>0.0</td>\n",
       "      <td>0.0</td>\n",
       "      <td>341.618321</td>\n",
       "      <td>90.862595</td>\n",
       "      <td>329.832061</td>\n",
       "      <td>0.652100</td>\n",
       "      <td>0.665283</td>\n",
       "      <td>0.939209</td>\n",
       "    </tr>\n",
       "    <tr>\n",
       "      <td>17970</td>\n",
       "      <td>yoyo</td>\n",
       "      <td>2</td>\n",
       "      <td>2019-10-13 18:49:45</td>\n",
       "      <td>0.37</td>\n",
       "      <td>-5.23</td>\n",
       "      <td>6.67</td>\n",
       "      <td>0.18</td>\n",
       "      <td>-0.03</td>\n",
       "      <td>-0.97</td>\n",
       "      <td>111.0</td>\n",
       "      <td>...</td>\n",
       "      <td>83.0</td>\n",
       "      <td>0.0</td>\n",
       "      <td>0.0</td>\n",
       "      <td>0.0</td>\n",
       "      <td>294.694656</td>\n",
       "      <td>66.564885</td>\n",
       "      <td>284.587786</td>\n",
       "      <td>0.466553</td>\n",
       "      <td>0.844238</td>\n",
       "      <td>1.221680</td>\n",
       "    </tr>\n",
       "    <tr>\n",
       "      <td>17971</td>\n",
       "      <td>yoyo</td>\n",
       "      <td>2</td>\n",
       "      <td>2019-10-13 18:49:46</td>\n",
       "      <td>7.05</td>\n",
       "      <td>5.18</td>\n",
       "      <td>-15.08</td>\n",
       "      <td>0.14</td>\n",
       "      <td>0.02</td>\n",
       "      <td>-1.00</td>\n",
       "      <td>98.0</td>\n",
       "      <td>...</td>\n",
       "      <td>98.0</td>\n",
       "      <td>0.0</td>\n",
       "      <td>0.0</td>\n",
       "      <td>0.0</td>\n",
       "      <td>284.038168</td>\n",
       "      <td>113.412214</td>\n",
       "      <td>315.648855</td>\n",
       "      <td>0.678711</td>\n",
       "      <td>0.641357</td>\n",
       "      <td>0.904785</td>\n",
       "    </tr>\n",
       "    <tr>\n",
       "      <td>17972</td>\n",
       "      <td>yoyo</td>\n",
       "      <td>2</td>\n",
       "      <td>2019-10-13 18:49:47</td>\n",
       "      <td>-7.41</td>\n",
       "      <td>4.02</td>\n",
       "      <td>7.46</td>\n",
       "      <td>0.18</td>\n",
       "      <td>-0.01</td>\n",
       "      <td>-1.00</td>\n",
       "      <td>113.0</td>\n",
       "      <td>...</td>\n",
       "      <td>77.0</td>\n",
       "      <td>0.0</td>\n",
       "      <td>0.0</td>\n",
       "      <td>0.0</td>\n",
       "      <td>309.396947</td>\n",
       "      <td>71.038168</td>\n",
       "      <td>257.045802</td>\n",
       "      <td>0.641113</td>\n",
       "      <td>0.646240</td>\n",
       "      <td>0.905518</td>\n",
       "    </tr>\n",
       "    <tr>\n",
       "      <td>17973</td>\n",
       "      <td>yoyo</td>\n",
       "      <td>2</td>\n",
       "      <td>2019-10-13 18:49:48</td>\n",
       "      <td>4.66</td>\n",
       "      <td>-1.41</td>\n",
       "      <td>1.90</td>\n",
       "      <td>0.23</td>\n",
       "      <td>0.02</td>\n",
       "      <td>-0.99</td>\n",
       "      <td>124.0</td>\n",
       "      <td>...</td>\n",
       "      <td>98.0</td>\n",
       "      <td>0.0</td>\n",
       "      <td>0.0</td>\n",
       "      <td>0.0</td>\n",
       "      <td>353.366412</td>\n",
       "      <td>79.801527</td>\n",
       "      <td>337.000000</td>\n",
       "      <td>0.711914</td>\n",
       "      <td>0.670654</td>\n",
       "      <td>0.876465</td>\n",
       "    </tr>\n",
       "  </tbody>\n",
       "</table>\n",
       "<p>17845 rows × 21 columns</p>\n",
       "</div>"
      ],
      "text/plain": [
       "          UID  status             DateTime  X_avg  Y_avg  Z_avg  Xr_avg  \\\n",
       "0      austin       2  2019-10-12 18:23:24  12.84  11.05  -0.58    0.43   \n",
       "1      austin       2  2019-10-12 18:23:25 -10.71   1.37   5.01    0.43   \n",
       "2      austin       2  2019-10-12 18:23:26 -26.70  -8.19   5.61    0.44   \n",
       "3      austin       2  2019-10-12 18:23:27 -30.77  -5.26   0.14    0.44   \n",
       "4      austin       2  2019-10-12 18:23:28 -18.43   2.46  16.03    0.45   \n",
       "...       ...     ...                  ...    ...    ...    ...     ...   \n",
       "17969    yoyo       2  2019-10-13 18:49:44   2.53   0.20  -2.43    0.20   \n",
       "17970    yoyo       2  2019-10-13 18:49:45   0.37  -5.23   6.67    0.18   \n",
       "17971    yoyo       2  2019-10-13 18:49:46   7.05   5.18 -15.08    0.14   \n",
       "17972    yoyo       2  2019-10-13 18:49:47  -7.41   4.02   7.46    0.18   \n",
       "17973    yoyo       2  2019-10-13 18:49:48   4.66  -1.41   1.90    0.23   \n",
       "\n",
       "       Yr_avg  Zr_avg   X_sd  ...  Z_sd  Xr_sd  Yr_sd  Zr_sd     X_range  \\\n",
       "0        0.18   -0.94  104.0  ...  33.0    0.0    0.0    0.0  373.480916   \n",
       "1        0.13   -0.98  109.0  ...  51.0    0.0    0.0    0.0  370.625954   \n",
       "2        0.12   -1.00  101.0  ...  32.0    0.0    0.0    0.0  324.511450   \n",
       "3        0.11   -0.99  104.0  ...  27.0    0.0    0.0    0.0  320.160305   \n",
       "4        0.04   -0.95  120.0  ...  33.0    0.0    0.0    0.0  347.053435   \n",
       "...       ...     ...    ...  ...   ...    ...    ...    ...         ...   \n",
       "17969    0.01   -0.98  115.0  ...  92.0    0.0    0.0    0.0  341.618321   \n",
       "17970   -0.03   -0.97  111.0  ...  83.0    0.0    0.0    0.0  294.694656   \n",
       "17971    0.02   -1.00   98.0  ...  98.0    0.0    0.0    0.0  284.038168   \n",
       "17972   -0.01   -1.00  113.0  ...  77.0    0.0    0.0    0.0  309.396947   \n",
       "17973    0.02   -0.99  124.0  ...  98.0    0.0    0.0    0.0  353.366412   \n",
       "\n",
       "          Y_range     Z_range  Xr_range  Yr_range  Zr_range  \n",
       "0      130.511450  118.374046  0.472900  0.803955  0.833984  \n",
       "1      128.946565  226.709924  0.670654  1.179199  0.697021  \n",
       "2      117.549618  125.068702  0.629150  1.044922  0.830322  \n",
       "3      148.572519  111.786260  0.510742  1.076904  0.706299  \n",
       "4      138.709924  123.557252  0.492676  0.761230  0.533447  \n",
       "...           ...         ...       ...       ...       ...  \n",
       "17969   90.862595  329.832061  0.652100  0.665283  0.939209  \n",
       "17970   66.564885  284.587786  0.466553  0.844238  1.221680  \n",
       "17971  113.412214  315.648855  0.678711  0.641357  0.904785  \n",
       "17972   71.038168  257.045802  0.641113  0.646240  0.905518  \n",
       "17973   79.801527  337.000000  0.711914  0.670654  0.876465  \n",
       "\n",
       "[17845 rows x 21 columns]"
      ]
     },
     "execution_count": 396,
     "metadata": {},
     "output_type": "execute_result"
    }
   ],
   "source": [
    "# data = 'new_2019_10_12_austin.csv'\n",
    "df = pd.read_csv(data, encoding='utf-8')\n",
    "df = df[df['status'] != 0]\n",
    "print(pd.value_counts(df.status))\n",
    "df"
   ]
  },
  {
   "cell_type": "code",
   "execution_count": 397,
   "metadata": {},
   "outputs": [],
   "source": [
    "# 把我們的題目分成 考古題(train) 和 考試題(test)\n",
    "from sklearn.model_selection import train_test_split\n",
    "# [90%題目, 10%題目, 90%答案, 10%答案]\n",
    "x_train, x_test, y_train, y_test = train_test_split(df[['X_avg', 'Y_avg', 'Z_avg', 'Xr_avg', 'Yr_avg', 'Zr_avg', \n",
    "                                                        'X_sd', 'Y_sd', 'Z_sd', 'Xr_sd', 'Yr_sd', 'Zr_sd', \n",
    "                                                        'X_range', 'Y_range', 'Z_range', 'Xr_range', 'Yr_range', 'Zr_range']],\n",
    "                                                    df[\"status\"],\n",
    "                                                    test_size=0.1)"
   ]
  },
  {
   "cell_type": "code",
   "execution_count": 398,
   "metadata": {},
   "outputs": [],
   "source": [
    "# 選擇學習方式\n",
    "from sklearn.tree import DecisionTreeClassifier\n",
    "clf = DecisionTreeClassifier(max_depth=2)"
   ]
  },
  {
   "cell_type": "code",
   "execution_count": 399,
   "metadata": {},
   "outputs": [
    {
     "data": {
      "text/plain": [
       "DecisionTreeClassifier(class_weight=None, criterion='gini', max_depth=2,\n",
       "                       max_features=None, max_leaf_nodes=None,\n",
       "                       min_impurity_decrease=0.0, min_impurity_split=None,\n",
       "                       min_samples_leaf=1, min_samples_split=2,\n",
       "                       min_weight_fraction_leaf=0.0, presort=False,\n",
       "                       random_state=None, splitter='best')"
      ]
     },
     "execution_count": 399,
     "metadata": {},
     "output_type": "execute_result"
    }
   ],
   "source": [
    "# 開始做考古題(fit)\n",
    "clf.fit(x_train, y_train)"
   ]
  },
  {
   "cell_type": "code",
   "execution_count": 400,
   "metadata": {},
   "outputs": [
    {
     "name": "stdout",
     "output_type": "stream",
     "text": [
      "正確率: 0.8134453781512605\n"
     ]
    }
   ],
   "source": [
    "# 驗證一下模型好壞\n",
    "from sklearn.metrics import accuracy_score\n",
    "pre = clf.predict(x_test)\n",
    "# print(\"預測的答案:\", list(pre))\n",
    "# print(\"正確的答案:\", list(y_test))\n",
    "print(\"正確率:\", accuracy_score(pre, y_test))"
   ]
  },
  {
   "cell_type": "code",
   "execution_count": 401,
   "metadata": {
    "scrolled": false
   },
   "outputs": [
    {
     "data": {
      "image/svg+xml": [
       "<?xml version=\"1.0\" encoding=\"UTF-8\" standalone=\"no\"?>\r\n",
       "<!DOCTYPE svg PUBLIC \"-//W3C//DTD SVG 1.1//EN\"\r\n",
       " \"http://www.w3.org/Graphics/SVG/1.1/DTD/svg11.dtd\">\r\n",
       "<!-- Generated by graphviz version 2.38.0 (20140413.2041)\r\n",
       " -->\r\n",
       "<!-- Title: Tree Pages: 1 -->\r\n",
       "<svg width=\"657pt\" height=\"314pt\"\r\n",
       " viewBox=\"0.00 0.00 657.00 314.00\" xmlns=\"http://www.w3.org/2000/svg\" xmlns:xlink=\"http://www.w3.org/1999/xlink\">\r\n",
       "<g id=\"graph0\" class=\"graph\" transform=\"scale(1 1) rotate(0) translate(4 310)\">\r\n",
       "<title>Tree</title>\r\n",
       "<polygon fill=\"white\" stroke=\"none\" points=\"-4,4 -4,-310 653,-310 653,4 -4,4\"/>\r\n",
       "<!-- 0 -->\r\n",
       "<g id=\"node1\" class=\"node\"><title>0</title>\r\n",
       "<polygon fill=\"#f6d1b7\" stroke=\"black\" points=\"417,-306 251,-306 251,-223 417,-223 417,-306\"/>\r\n",
       "<text text-anchor=\"middle\" x=\"334\" y=\"-290.8\" font-family=\"Times New Roman,serif\" font-size=\"14.00\">Yr_range &lt;= 1.023</text>\r\n",
       "<text text-anchor=\"middle\" x=\"334\" y=\"-275.8\" font-family=\"Times New Roman,serif\" font-size=\"14.00\">gini = 0.616</text>\r\n",
       "<text text-anchor=\"middle\" x=\"334\" y=\"-260.8\" font-family=\"Times New Roman,serif\" font-size=\"14.00\">samples = 16060</text>\r\n",
       "<text text-anchor=\"middle\" x=\"334\" y=\"-245.8\" font-family=\"Times New Roman,serif\" font-size=\"14.00\">value = [8312, 3873, 3875]</text>\r\n",
       "<text text-anchor=\"middle\" x=\"334\" y=\"-230.8\" font-family=\"Times New Roman,serif\" font-size=\"14.00\">class = none</text>\r\n",
       "</g>\r\n",
       "<!-- 1 -->\r\n",
       "<g id=\"node2\" class=\"node\"><title>1</title>\r\n",
       "<polygon fill=\"#ebe0fb\" stroke=\"black\" points=\"326.5,-187 167.5,-187 167.5,-104 326.5,-104 326.5,-187\"/>\r\n",
       "<text text-anchor=\"middle\" x=\"247\" y=\"-171.8\" font-family=\"Times New Roman,serif\" font-size=\"14.00\">Zr_range &lt;= 0.721</text>\r\n",
       "<text text-anchor=\"middle\" x=\"247\" y=\"-156.8\" font-family=\"Times New Roman,serif\" font-size=\"14.00\">gini = 0.551</text>\r\n",
       "<text text-anchor=\"middle\" x=\"247\" y=\"-141.8\" font-family=\"Times New Roman,serif\" font-size=\"14.00\">samples = 7308</text>\r\n",
       "<text text-anchor=\"middle\" x=\"247\" y=\"-126.8\" font-family=\"Times New Roman,serif\" font-size=\"14.00\">value = [441, 3103, 3764]</text>\r\n",
       "<text text-anchor=\"middle\" x=\"247\" y=\"-111.8\" font-family=\"Times New Roman,serif\" font-size=\"14.00\">class = fast</text>\r\n",
       "</g>\r\n",
       "<!-- 0&#45;&gt;1 -->\r\n",
       "<g id=\"edge1\" class=\"edge\"><title>0&#45;&gt;1</title>\r\n",
       "<path fill=\"none\" stroke=\"black\" d=\"M303.816,-222.907C297.135,-213.923 289.991,-204.315 283.101,-195.05\"/>\r\n",
       "<polygon fill=\"black\" stroke=\"black\" points=\"285.907,-192.957 277.131,-187.021 280.289,-197.134 285.907,-192.957\"/>\r\n",
       "<text text-anchor=\"middle\" x=\"273.494\" y=\"-208.055\" font-family=\"Times New Roman,serif\" font-size=\"14.00\">True</text>\r\n",
       "</g>\r\n",
       "<!-- 4 -->\r\n",
       "<g id=\"node5\" class=\"node\"><title>4</title>\r\n",
       "<polygon fill=\"#e88f4f\" stroke=\"black\" points=\"497,-187 345,-187 345,-104 497,-104 497,-187\"/>\r\n",
       "<text text-anchor=\"middle\" x=\"421\" y=\"-171.8\" font-family=\"Times New Roman,serif\" font-size=\"14.00\">Z_sd &lt;= 79.5</text>\r\n",
       "<text text-anchor=\"middle\" x=\"421\" y=\"-156.8\" font-family=\"Times New Roman,serif\" font-size=\"14.00\">gini = 0.183</text>\r\n",
       "<text text-anchor=\"middle\" x=\"421\" y=\"-141.8\" font-family=\"Times New Roman,serif\" font-size=\"14.00\">samples = 8752</text>\r\n",
       "<text text-anchor=\"middle\" x=\"421\" y=\"-126.8\" font-family=\"Times New Roman,serif\" font-size=\"14.00\">value = [7871, 770, 111]</text>\r\n",
       "<text text-anchor=\"middle\" x=\"421\" y=\"-111.8\" font-family=\"Times New Roman,serif\" font-size=\"14.00\">class = none</text>\r\n",
       "</g>\r\n",
       "<!-- 0&#45;&gt;4 -->\r\n",
       "<g id=\"edge4\" class=\"edge\"><title>0&#45;&gt;4</title>\r\n",
       "<path fill=\"none\" stroke=\"black\" d=\"M364.184,-222.907C370.865,-213.923 378.009,-204.315 384.899,-195.05\"/>\r\n",
       "<polygon fill=\"black\" stroke=\"black\" points=\"387.711,-197.134 390.869,-187.021 382.093,-192.957 387.711,-197.134\"/>\r\n",
       "<text text-anchor=\"middle\" x=\"394.506\" y=\"-208.055\" font-family=\"Times New Roman,serif\" font-size=\"14.00\">False</text>\r\n",
       "</g>\r\n",
       "<!-- 2 -->\r\n",
       "<g id=\"node3\" class=\"node\"><title>2</title>\r\n",
       "<polygon fill=\"#a572ed\" stroke=\"black\" points=\"152,-68 0,-68 0,-0 152,-0 152,-68\"/>\r\n",
       "<text text-anchor=\"middle\" x=\"76\" y=\"-52.8\" font-family=\"Times New Roman,serif\" font-size=\"14.00\">gini = 0.372</text>\r\n",
       "<text text-anchor=\"middle\" x=\"76\" y=\"-37.8\" font-family=\"Times New Roman,serif\" font-size=\"14.00\">samples = 3480</text>\r\n",
       "<text text-anchor=\"middle\" x=\"76\" y=\"-22.8\" font-family=\"Times New Roman,serif\" font-size=\"14.00\">value = [133, 676, 2671]</text>\r\n",
       "<text text-anchor=\"middle\" x=\"76\" y=\"-7.8\" font-family=\"Times New Roman,serif\" font-size=\"14.00\">class = fast</text>\r\n",
       "</g>\r\n",
       "<!-- 1&#45;&gt;2 -->\r\n",
       "<g id=\"edge2\" class=\"edge\"><title>1&#45;&gt;2</title>\r\n",
       "<path fill=\"none\" stroke=\"black\" d=\"M183.326,-103.726C168.006,-93.9161 151.684,-83.4644 136.513,-73.7496\"/>\r\n",
       "<polygon fill=\"black\" stroke=\"black\" points=\"138.039,-70.5704 127.73,-68.1252 134.264,-76.4654 138.039,-70.5704\"/>\r\n",
       "</g>\r\n",
       "<!-- 3 -->\r\n",
       "<g id=\"node4\" class=\"node\"><title>3</title>\r\n",
       "<polygon fill=\"#9ef2c2\" stroke=\"black\" points=\"329.5,-68 170.5,-68 170.5,-0 329.5,-0 329.5,-68\"/>\r\n",
       "<text text-anchor=\"middle\" x=\"250\" y=\"-52.8\" font-family=\"Times New Roman,serif\" font-size=\"14.00\">gini = 0.51</text>\r\n",
       "<text text-anchor=\"middle\" x=\"250\" y=\"-37.8\" font-family=\"Times New Roman,serif\" font-size=\"14.00\">samples = 3828</text>\r\n",
       "<text text-anchor=\"middle\" x=\"250\" y=\"-22.8\" font-family=\"Times New Roman,serif\" font-size=\"14.00\">value = [308, 2427, 1093]</text>\r\n",
       "<text text-anchor=\"middle\" x=\"250\" y=\"-7.8\" font-family=\"Times New Roman,serif\" font-size=\"14.00\">class = run</text>\r\n",
       "</g>\r\n",
       "<!-- 1&#45;&gt;3 -->\r\n",
       "<g id=\"edge3\" class=\"edge\"><title>1&#45;&gt;3</title>\r\n",
       "<path fill=\"none\" stroke=\"black\" d=\"M248.117,-103.726C248.342,-95.5175 248.579,-86.8595 248.807,-78.56\"/>\r\n",
       "<polygon fill=\"black\" stroke=\"black\" points=\"252.312,-78.3917 249.088,-68.2996 245.315,-78.2 252.312,-78.3917\"/>\r\n",
       "</g>\r\n",
       "<!-- 5 -->\r\n",
       "<g id=\"node6\" class=\"node\"><title>5</title>\r\n",
       "<polygon fill=\"#62ea9b\" stroke=\"black\" points=\"485,-68 353,-68 353,-0 485,-0 485,-68\"/>\r\n",
       "<text text-anchor=\"middle\" x=\"419\" y=\"-52.8\" font-family=\"Times New Roman,serif\" font-size=\"14.00\">gini = 0.322</text>\r\n",
       "<text text-anchor=\"middle\" x=\"419\" y=\"-37.8\" font-family=\"Times New Roman,serif\" font-size=\"14.00\">samples = 614</text>\r\n",
       "<text text-anchor=\"middle\" x=\"419\" y=\"-22.8\" font-family=\"Times New Roman,serif\" font-size=\"14.00\">value = [65, 499, 50]</text>\r\n",
       "<text text-anchor=\"middle\" x=\"419\" y=\"-7.8\" font-family=\"Times New Roman,serif\" font-size=\"14.00\">class = run</text>\r\n",
       "</g>\r\n",
       "<!-- 4&#45;&gt;5 -->\r\n",
       "<g id=\"edge5\" class=\"edge\"><title>4&#45;&gt;5</title>\r\n",
       "<path fill=\"none\" stroke=\"black\" d=\"M420.255,-103.726C420.105,-95.5175 419.947,-86.8595 419.796,-78.56\"/>\r\n",
       "<polygon fill=\"black\" stroke=\"black\" points=\"423.29,-78.234 419.608,-68.2996 416.292,-78.3619 423.29,-78.234\"/>\r\n",
       "</g>\r\n",
       "<!-- 6 -->\r\n",
       "<g id=\"node7\" class=\"node\"><title>6</title>\r\n",
       "<polygon fill=\"#e68641\" stroke=\"black\" points=\"649,-68 503,-68 503,-0 649,-0 649,-68\"/>\r\n",
       "<text text-anchor=\"middle\" x=\"576\" y=\"-52.8\" font-family=\"Times New Roman,serif\" font-size=\"14.00\">gini = 0.079</text>\r\n",
       "<text text-anchor=\"middle\" x=\"576\" y=\"-37.8\" font-family=\"Times New Roman,serif\" font-size=\"14.00\">samples = 8138</text>\r\n",
       "<text text-anchor=\"middle\" x=\"576\" y=\"-22.8\" font-family=\"Times New Roman,serif\" font-size=\"14.00\">value = [7806, 271, 61]</text>\r\n",
       "<text text-anchor=\"middle\" x=\"576\" y=\"-7.8\" font-family=\"Times New Roman,serif\" font-size=\"14.00\">class = none</text>\r\n",
       "</g>\r\n",
       "<!-- 4&#45;&gt;6 -->\r\n",
       "<g id=\"edge6\" class=\"edge\"><title>4&#45;&gt;6</title>\r\n",
       "<path fill=\"none\" stroke=\"black\" d=\"M478.716,-103.726C492.402,-94.0582 506.969,-83.767 520.551,-74.172\"/>\r\n",
       "<polygon fill=\"black\" stroke=\"black\" points=\"522.716,-76.9282 528.864,-68.2996 518.677,-71.2109 522.716,-76.9282\"/>\r\n",
       "</g>\r\n",
       "</g>\r\n",
       "</svg>\r\n"
      ],
      "text/plain": [
       "<graphviz.files.Source at 0x2b222184ac8>"
      ]
     },
     "execution_count": 401,
     "metadata": {},
     "output_type": "execute_result"
    }
   ],
   "source": [
    "from sklearn.tree import export_graphviz\n",
    "import graphviz\n",
    "ans = ['none', 'run', 'fast', 'slow']\n",
    "colnames = ['X_avg', 'Y_avg', 'Z_avg', 'Xr_avg', 'Yr_avg', 'Zr_avg', \n",
    "            'X_sd', 'Y_sd', 'Z_sd', 'Xr_sd', 'Yr_sd', 'Zr_sd', \n",
    "            'X_range', 'Y_range', 'Z_range', 'Xr_range', 'Yr_range', 'Zr_range']\n",
    "g = export_graphviz(clf, \n",
    "                    feature_names=colnames,\n",
    "                    class_names=ans,\n",
    "                    filled=True)\n",
    "graphviz.Source(g)"
   ]
  },
  {
   "cell_type": "code",
   "execution_count": 402,
   "metadata": {},
   "outputs": [
    {
     "data": {
      "text/plain": [
       "{'max_depth': 9, 'n_estimators': 74}"
      ]
     },
     "execution_count": 402,
     "metadata": {},
     "output_type": "execute_result"
    }
   ],
   "source": [
    "from sklearn.ensemble import RandomForestClassifier\n",
    "from sklearn.model_selection import GridSearchCV\n",
    "clf = RandomForestClassifier()\n",
    "p = {\n",
    "    'n_estimators': range(10, 100),\n",
    "    'max_depth': range(5, 10)\n",
    "}\n",
    "grid = GridSearchCV(clf, p, cv = 10, n_jobs = 8)\n",
    "grid.fit(x_train, y_train)\n",
    "grid.best_params_\n",
    "n_estimators = dict(grid.best_params_)['max_depth']\n",
    "max_depth = dict(grid.best_params_)['n_estimators']\n",
    "print(\"'max_depth': {}, \\n'n_estimators': {}\".format(n_estimators, max_depth))"
   ]
  },
  {
   "cell_type": "code",
   "execution_count": 431,
   "metadata": {},
   "outputs": [],
   "source": [
    "from sklearn.ensemble import RandomForestClassifier\n",
    "from sklearn.model_selection import cross_val_score, GridSearchCV\n",
    "import numpy as np\n",
    "clf = RandomForestClassifier(n_estimators = n_estimators,\n",
    "                             max_depth = max_depth)"
   ]
  },
  {
   "cell_type": "code",
   "execution_count": 426,
   "metadata": {},
   "outputs": [
    {
     "name": "stdout",
     "output_type": "stream",
     "text": [
      "十次分數:  [0.93905473 0.93221393 0.94835096 0.94769614 0.92963885 0.93956386\n",
      " 0.93146417 0.9364486  0.93894081 0.93520249]\n",
      "平均:  0.9378574552714654\n"
     ]
    }
   ],
   "source": [
    "s = cross_val_score(clf, x_train, y_train, cv = 10)\n",
    "print('十次分數: ', s)\n",
    "print('平均: ', np.average(s))"
   ]
  },
  {
   "cell_type": "code",
   "execution_count": 424,
   "metadata": {},
   "outputs": [
    {
     "name": "stdout",
     "output_type": "stream",
     "text": [
      "十次分數:  [0.95530726 0.93296089 0.9273743  0.91061453 0.94413408 0.92696629\n",
      " 0.94382022 0.93258427 0.87640449 0.90449438]\n",
      "平均:  0.9254660724373862\n"
     ]
    }
   ],
   "source": [
    "s = cross_val_score(clf, x_test, y_test, cv = 10)\n",
    "print('十次分數: ', s)\n",
    "print('平均: ', np.average(s))"
   ]
  },
  {
   "cell_type": "code",
   "execution_count": 443,
   "metadata": {},
   "outputs": [
    {
     "data": {
      "text/plain": [
       "RandomForestClassifier(bootstrap=True, class_weight=None, criterion='gini',\n",
       "                       max_depth=74, max_features='auto', max_leaf_nodes=None,\n",
       "                       min_impurity_decrease=0.0, min_impurity_split=None,\n",
       "                       min_samples_leaf=1, min_samples_split=2,\n",
       "                       min_weight_fraction_leaf=0.0, n_estimators=9,\n",
       "                       n_jobs=None, oob_score=False, random_state=None,\n",
       "                       verbose=0, warm_start=False)"
      ]
     },
     "execution_count": 443,
     "metadata": {},
     "output_type": "execute_result"
    }
   ],
   "source": [
    "clf.fit(x_train, y_train)"
   ]
  },
  {
   "cell_type": "code",
   "execution_count": 444,
   "metadata": {},
   "outputs": [
    {
     "data": {
      "text/plain": [
       "['model.pkl']"
      ]
     },
     "execution_count": 444,
     "metadata": {},
     "output_type": "execute_result"
    }
   ],
   "source": [
    "from sklearn.externals import joblib\n",
    "joblib.dump(clf, 'model.pkl',protocol=2)   "
   ]
  },
  {
   "cell_type": "code",
   "execution_count": 439,
   "metadata": {},
   "outputs": [
    {
     "data": {
      "text/plain": [
       "2"
      ]
     },
     "execution_count": 439,
     "metadata": {},
     "output_type": "execute_result"
    }
   ],
   "source": [
    "y_train.iloc[0]"
   ]
  }
 ],
 "metadata": {
  "kernelspec": {
   "display_name": "Python 3",
   "language": "python",
   "name": "python3"
  },
  "language_info": {
   "codemirror_mode": {
    "name": "ipython",
    "version": 3
   },
   "file_extension": ".py",
   "mimetype": "text/x-python",
   "name": "python",
   "nbconvert_exporter": "python",
   "pygments_lexer": "ipython3",
   "version": "3.7.0"
  }
 },
 "nbformat": 4,
 "nbformat_minor": 2
}
